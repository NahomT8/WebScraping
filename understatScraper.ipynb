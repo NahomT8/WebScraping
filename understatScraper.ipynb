#USING UNDERSTAT API!

%pip install understatapi --quiet
